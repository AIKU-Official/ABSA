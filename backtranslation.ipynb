{
 "cells": [
  {
   "cell_type": "code",
   "execution_count": 1,
   "metadata": {},
   "outputs": [],
   "source": [
    "import jsonlines\n",
    "import pandas as pd\n",
    "import emoji\n",
    "from soynlp.normalizer import repeat_normalize"
   ]
  },
  {
   "cell_type": "code",
   "execution_count": 2,
   "metadata": {},
   "outputs": [],
   "source": [
    "from tqdm import tqdm\n",
    "import selenium\n",
    "from selenium import webdriver\n",
    "from selenium.webdriver.remote.webdriver import WebDriver\n",
    "from selenium.webdriver.chrome.options import Options\n",
    "from selenium.webdriver.common.by import By\n",
    "import time\n",
    "import urllib\n",
    "import re"
   ]
  },
  {
   "cell_type": "markdown",
   "metadata": {},
   "source": [
    "# Preprocess"
   ]
  },
  {
   "cell_type": "code",
   "execution_count": 4,
   "metadata": {},
   "outputs": [],
   "source": [
    "def replace_masks(file_in, file_out):\n",
    "    \"\"\"\n",
    "    &name& -> <name>\n",
    "    url encoding시 &를 넣으면 제대로 들어가지 않으므로 꺾쇠로 대체\n",
    "    \"\"\"\n",
    "    lines = []\n",
    "    pattern = re.compile(r'&([a-z]+)&') # &name&, &affiliation&, ...\n",
    "    count = 0\n",
    "    with jsonlines.open(file_in) as f:\n",
    "        for line in f:\n",
    "            sentence = line['sentence_form']\n",
    "            if pattern.search(sentence):\n",
    "                sentence = pattern.sub(r'<\\1>',sentence)\n",
    "                count += 1\n",
    "            line['sentence_form'] = sentence\n",
    "            lines.append(line)\n",
    "    \n",
    "    with jsonlines.open(file_out, 'w') as f:\n",
    "        f.write_all(lines)\n",
    "    print(\"Substitued: \", count)"
   ]
  },
  {
   "cell_type": "code",
   "execution_count": 10,
   "metadata": {},
   "outputs": [
    {
     "name": "stdout",
     "output_type": "stream",
     "text": [
      "Substitued:  20\n"
     ]
    }
   ],
   "source": [
    "# (입력 파일명, 출력 파일명)\n",
    "replace_masks('./Dataset/nikluge-sa-2022-test.jsonl', './Dataset/test_preprocess.jsonl')"
   ]
  },
  {
   "cell_type": "code",
   "execution_count": 11,
   "metadata": {},
   "outputs": [],
   "source": [
    "def preprocess_sentences(file_in, file_out):\n",
    "    lines = []\n",
    "    with jsonlines.open(file_in) as f:\n",
    "        for line in f:\n",
    "            sentence = line['sentence_form']\n",
    "            emojis = [e.chars for e in emoji.analyze(sentence)]\n",
    "\n",
    "            if '♥' not in emojis: # ♥가 들어간 문장만 남기고 replace (test dataset에 있는 특수문자만 남김)\n",
    "                sentence = emoji.replace_emoji(sentence, '')\n",
    "\n",
    "            sentence = repeat_normalize(sentence, num_repeats=2) # 반복 어구 축약\n",
    "\n",
    "            line['sentence_form'] = sentence\n",
    "            lines.append(line)\n",
    "\n",
    "    with jsonlines.open(file_out, 'w') as f:\n",
    "        f.write_all(lines)"
   ]
  },
  {
   "cell_type": "code",
   "execution_count": 12,
   "metadata": {},
   "outputs": [],
   "source": [
    "# (입력 파일명, 출력 파일명)\n",
    "preprocess_sentences('./Dataset/test_preprocess.jsonl', './Dataset/test_preprocess.jsonl')"
   ]
  },
  {
   "cell_type": "markdown",
   "metadata": {},
   "source": [
    "# Backtranslation"
   ]
  },
  {
   "cell_type": "code",
   "execution_count": 3,
   "metadata": {},
   "outputs": [],
   "source": [
    "import urllib.parse\n",
    "\n",
    "def translation(json_data, src_lang, tgt_lang, driver: WebDriver):\n",
    "    \"\"\"\n",
    "    request format: sk={src_lang}&tk={tgt_lang}&st={text}\n",
    "    \"\"\"\n",
    "    \n",
    "    request_url = 'https://papago.naver.com/?sk={}&tk={}&st={}'\n",
    "    is_formal = True\n",
    "    with tqdm(json_data, total=len(json_data), desc=f'{src_lang}-{tgt_lang} Translation') as pbar:\n",
    "        for line in pbar:\n",
    "            text = line['sentence_form']\n",
    "            try:\n",
    "                text = urllib.parse.quote(text) # 특수문자로 인한 encoding\n",
    "                driver.get(request_url.format(src_lang, tgt_lang, text))\n",
    "                driver.implicitly_wait(60)\n",
    "                time.sleep(1.0)\n",
    "\n",
    "                if tgt_lang == 'ko' and is_formal: # 한국어로 번역할 경우 높임말 해제 (only for en, ja, cn)\n",
    "                    driver.find_element(By.XPATH, '//*[@id=\"root\"]/div/div[1]/section/div/div[1]/div[3]/div/div[6]/div/button').click()\n",
    "                    is_formal = False\n",
    "                    time.sleep(1.5)\n",
    "                text = driver.find_element(By.XPATH, '//*[@id=\"txtTarget\"]').text # translation result\n",
    "\n",
    "            except: # 오류 발생 시 get 방식이 아닌 직접 텍스트를 입력하도록 시도\n",
    "                driver.get(request_url.format(src_lang, tgt_lang, ''))\n",
    "                time.sleep(1.5)\n",
    "                driver.find_element(By.XPATH, '//*[@id=\"txtSource\"]').send_keys(text)\n",
    "                time.sleep(1.5)\n",
    "                text = driver.find_element(By.XPATH, '//*[@id=\"txtTarget\"]').text\n",
    "            line['sentence_form'] = text\n",
    "            if text == \"\":\n",
    "                print(\"N/A\")\n",
    "\n",
    "    return json_data\n"
   ]
  },
  {
   "cell_type": "code",
   "execution_count": 4,
   "metadata": {},
   "outputs": [],
   "source": [
    "# def translation(text_data, src_lang, tgt_lang, driver: WebDriver):\n",
    "#     \"\"\"\n",
    "#     request format:\n",
    "#     ?sk={src_lang}&tk={tgt_lang}&st={text}\n",
    "#     \"\"\"\n",
    "    \n",
    "#     request_url = 'https://papago.naver.com/?sk={}&tk={}'\n",
    "#     driver.get(request_url.format(src_lang, tgt_lang))\n",
    "#     time.sleep(1.5)\n",
    "#     # 높임말 해제\n",
    "#     if tgt_lang == 'ko':\n",
    "#         driver.find_element(By.XPATH, '//*[@id=\"root\"]/div/div[1]/section/div/div[1]/div[3]/div/div[6]/div/button').click()\n",
    "#         disable_formal = True\n",
    "#         time.sleep(1.5)\n",
    "    \n",
    "#     trans_list = []\n",
    "#     with tqdm(text_data, total=len(text_data), desc=f'{src_lang}-{tgt_lang} Translation') as pbar:\n",
    "#         for text in pbar:\n",
    "#             driver.find_element(By.XPATH, '//*[@id=\"txtSource\"]').send_keys(text)\n",
    "#             time.sleep(2.0)\n",
    "#             trans = driver.find_element(By.XPATH, '//*[@id=\"txtTarget\"]').text\n",
    "#             trans_list.append(trans)\n",
    "#             driver.find_element(By.XPATH, '//*[@id=\"sourceEditArea\"]/button').click()\n",
    "#             time.sleep(0.1)\n",
    "\n",
    "#     return trans_list\n"
   ]
  },
  {
   "cell_type": "code",
   "execution_count": 5,
   "metadata": {},
   "outputs": [],
   "source": [
    "def augmentation_backtranslate(tgt_lang, file_in, file_out):\n",
    "    json_data = []\n",
    "    with jsonlines.open(file_in, 'r') as f:\n",
    "        for line in f:\n",
    "            json_data.append(line)\n",
    "\n",
    "    print(len(json_data))\n",
    "\n",
    "    options = webdriver.ChromeOptions()\n",
    "    options.add_argument('headless')\n",
    "    # options.add_argument('Mozilla/5.0 (Windows NT 10.0; Win64; x64) AppleWebKit/537.36 (KHTML, like Gecko) Chrome/116.0.0.0 Safari/537.36')\n",
    "    driver = webdriver.Chrome(options=options)\n",
    "    forward = translation(json_data, 'ko', tgt_lang, driver)\n",
    "    backward = translation(forward, tgt_lang, 'ko', driver)\n",
    "\n",
    "    print(len(backward))\n",
    "\n",
    "    driver.close()\n",
    "\n",
    "    # assert len(text_data) == len(backward)\n",
    "\n",
    "    with jsonlines.open(file_out, 'w') as f:\n",
    "        f.write_all(backward)\n",
    "\n",
    "    return forward, backward"
   ]
  },
  {
   "cell_type": "code",
   "execution_count": 6,
   "metadata": {},
   "outputs": [
    {
     "name": "stdout",
     "output_type": "stream",
     "text": [
      "8321\n"
     ]
    },
    {
     "name": "stderr",
     "output_type": "stream",
     "text": [
      "ko-en Translation:   1%|          | 84/8321 [01:28<2:24:36,  1.05s/it]"
     ]
    },
    {
     "name": "stdout",
     "output_type": "stream",
     "text": [
      "N/A\n"
     ]
    },
    {
     "name": "stderr",
     "output_type": "stream",
     "text": [
      "ko-en Translation:   1%|          | 86/8321 [01:30<2:24:56,  1.06s/it]"
     ]
    },
    {
     "name": "stdout",
     "output_type": "stream",
     "text": [
      "N/A\n"
     ]
    },
    {
     "name": "stderr",
     "output_type": "stream",
     "text": [
      "ko-en Translation:   6%|▌         | 473/8321 [08:19<2:18:31,  1.06s/it]"
     ]
    },
    {
     "name": "stdout",
     "output_type": "stream",
     "text": [
      "N/A\n"
     ]
    },
    {
     "name": "stderr",
     "output_type": "stream",
     "text": [
      "ko-en Translation:   6%|▌         | 500/8321 [08:47<2:17:37,  1.06s/it]"
     ]
    },
    {
     "name": "stdout",
     "output_type": "stream",
     "text": [
      "N/A\n"
     ]
    },
    {
     "name": "stderr",
     "output_type": "stream",
     "text": [
      "ko-en Translation:   9%|▉         | 786/8321 [13:49<2:13:10,  1.06s/it]"
     ]
    },
    {
     "name": "stdout",
     "output_type": "stream",
     "text": [
      "N/A\n"
     ]
    },
    {
     "name": "stderr",
     "output_type": "stream",
     "text": [
      "ko-en Translation:  10%|▉         | 828/8321 [14:34<2:12:47,  1.06s/it]"
     ]
    },
    {
     "name": "stdout",
     "output_type": "stream",
     "text": [
      "N/A\n"
     ]
    },
    {
     "name": "stderr",
     "output_type": "stream",
     "text": [
      "ko-en Translation:  13%|█▎        | 1068/8321 [18:47<2:07:07,  1.05s/it]"
     ]
    },
    {
     "name": "stdout",
     "output_type": "stream",
     "text": [
      "N/A\n"
     ]
    },
    {
     "name": "stderr",
     "output_type": "stream",
     "text": [
      "ko-en Translation:  14%|█▍        | 1165/8321 [20:29<2:06:30,  1.06s/it]"
     ]
    },
    {
     "name": "stdout",
     "output_type": "stream",
     "text": [
      "N/A\n"
     ]
    },
    {
     "name": "stderr",
     "output_type": "stream",
     "text": [
      "ko-en Translation:  26%|██▋       | 2192/8321 [38:31<1:48:09,  1.06s/it]"
     ]
    },
    {
     "name": "stdout",
     "output_type": "stream",
     "text": [
      "N/A\n"
     ]
    },
    {
     "name": "stderr",
     "output_type": "stream",
     "text": [
      "ko-en Translation:  26%|██▋       | 2198/8321 [38:38<1:48:29,  1.06s/it]"
     ]
    },
    {
     "name": "stdout",
     "output_type": "stream",
     "text": [
      "N/A\n"
     ]
    },
    {
     "name": "stderr",
     "output_type": "stream",
     "text": [
      "ko-en Translation:  27%|██▋       | 2211/8321 [38:51<1:47:50,  1.06s/it]"
     ]
    },
    {
     "name": "stdout",
     "output_type": "stream",
     "text": [
      "N/A\n"
     ]
    },
    {
     "name": "stderr",
     "output_type": "stream",
     "text": [
      "ko-en Translation:  27%|██▋       | 2225/8321 [39:06<1:46:58,  1.05s/it]"
     ]
    },
    {
     "name": "stdout",
     "output_type": "stream",
     "text": [
      "N/A\n"
     ]
    },
    {
     "name": "stderr",
     "output_type": "stream",
     "text": [
      "ko-en Translation:  30%|██▉       | 2496/8321 [43:52<1:42:42,  1.06s/it]"
     ]
    },
    {
     "name": "stdout",
     "output_type": "stream",
     "text": [
      "N/A\n"
     ]
    },
    {
     "name": "stderr",
     "output_type": "stream",
     "text": [
      "ko-en Translation:  42%|████▏     | 3535/8321 [1:02:07<1:24:29,  1.06s/it]"
     ]
    },
    {
     "name": "stdout",
     "output_type": "stream",
     "text": [
      "N/A\n"
     ]
    },
    {
     "name": "stderr",
     "output_type": "stream",
     "text": [
      "ko-en Translation:  43%|████▎     | 3562/8321 [1:02:35<1:23:11,  1.05s/it]"
     ]
    },
    {
     "name": "stdout",
     "output_type": "stream",
     "text": [
      "N/A\n"
     ]
    },
    {
     "name": "stderr",
     "output_type": "stream",
     "text": [
      "ko-en Translation:  43%|████▎     | 3565/8321 [1:02:39<1:23:37,  1.06s/it]"
     ]
    },
    {
     "name": "stdout",
     "output_type": "stream",
     "text": [
      "N/A\n"
     ]
    },
    {
     "name": "stderr",
     "output_type": "stream",
     "text": [
      "ko-en Translation:  45%|████▍     | 3740/8321 [1:05:43<1:21:11,  1.06s/it]"
     ]
    },
    {
     "name": "stdout",
     "output_type": "stream",
     "text": [
      "N/A\n"
     ]
    },
    {
     "name": "stderr",
     "output_type": "stream",
     "text": [
      "ko-en Translation:  51%|█████     | 4211/8321 [1:14:00<1:12:17,  1.06s/it]"
     ]
    },
    {
     "name": "stdout",
     "output_type": "stream",
     "text": [
      "N/A\n"
     ]
    },
    {
     "name": "stderr",
     "output_type": "stream",
     "text": [
      "ko-en Translation:  52%|█████▏    | 4306/8321 [1:15:40<1:10:46,  1.06s/it]"
     ]
    },
    {
     "name": "stdout",
     "output_type": "stream",
     "text": [
      "N/A\n"
     ]
    },
    {
     "name": "stderr",
     "output_type": "stream",
     "text": [
      "ko-en Translation:  54%|█████▍    | 4508/8321 [1:19:13<1:06:41,  1.05s/it]"
     ]
    },
    {
     "name": "stdout",
     "output_type": "stream",
     "text": [
      "N/A\n"
     ]
    },
    {
     "name": "stderr",
     "output_type": "stream",
     "text": [
      "ko-en Translation:  58%|█████▊    | 4861/8321 [1:25:25<1:00:37,  1.05s/it]"
     ]
    },
    {
     "name": "stdout",
     "output_type": "stream",
     "text": [
      "N/A\n"
     ]
    },
    {
     "name": "stderr",
     "output_type": "stream",
     "text": [
      "ko-en Translation:  59%|█████▉    | 4889/8321 [1:25:54<1:00:10,  1.05s/it]"
     ]
    },
    {
     "name": "stdout",
     "output_type": "stream",
     "text": [
      "N/A\n"
     ]
    },
    {
     "name": "stderr",
     "output_type": "stream",
     "text": [
      "ko-en Translation:  61%|██████    | 5072/8321 [1:29:07<56:59,  1.05s/it]  "
     ]
    },
    {
     "name": "stdout",
     "output_type": "stream",
     "text": [
      "N/A\n"
     ]
    },
    {
     "name": "stderr",
     "output_type": "stream",
     "text": [
      "ko-en Translation:  61%|██████▏   | 5102/8321 [1:29:39<56:58,  1.06s/it]"
     ]
    },
    {
     "name": "stdout",
     "output_type": "stream",
     "text": [
      "N/A\n"
     ]
    },
    {
     "name": "stderr",
     "output_type": "stream",
     "text": [
      "ko-en Translation:  63%|██████▎   | 5283/8321 [1:32:50<53:38,  1.06s/it]"
     ]
    },
    {
     "name": "stdout",
     "output_type": "stream",
     "text": [
      "N/A\n"
     ]
    },
    {
     "name": "stderr",
     "output_type": "stream",
     "text": [
      "ko-en Translation:  66%|██████▌   | 5467/8321 [1:36:04<50:17,  1.06s/it]"
     ]
    },
    {
     "name": "stdout",
     "output_type": "stream",
     "text": [
      "N/A\n"
     ]
    },
    {
     "name": "stderr",
     "output_type": "stream",
     "text": [
      "ko-en Translation:  66%|██████▌   | 5512/8321 [1:36:52<49:35,  1.06s/it]"
     ]
    },
    {
     "name": "stdout",
     "output_type": "stream",
     "text": [
      "N/A\n"
     ]
    },
    {
     "name": "stderr",
     "output_type": "stream",
     "text": [
      "ko-en Translation:  78%|███████▊  | 6495/8321 [1:54:08<32:12,  1.06s/it]"
     ]
    },
    {
     "name": "stdout",
     "output_type": "stream",
     "text": [
      "N/A\n"
     ]
    },
    {
     "name": "stderr",
     "output_type": "stream",
     "text": [
      "ko-en Translation:  78%|███████▊  | 6506/8321 [1:54:19<31:57,  1.06s/it]"
     ]
    },
    {
     "name": "stdout",
     "output_type": "stream",
     "text": [
      "N/A\n"
     ]
    },
    {
     "name": "stderr",
     "output_type": "stream",
     "text": [
      "ko-en Translation:  81%|████████  | 6710/8321 [1:57:54<28:18,  1.05s/it]"
     ]
    },
    {
     "name": "stdout",
     "output_type": "stream",
     "text": [
      "N/A\n"
     ]
    },
    {
     "name": "stderr",
     "output_type": "stream",
     "text": [
      "ko-en Translation:  81%|████████  | 6720/8321 [1:58:05<28:08,  1.05s/it]"
     ]
    },
    {
     "name": "stdout",
     "output_type": "stream",
     "text": [
      "N/A\n"
     ]
    },
    {
     "name": "stderr",
     "output_type": "stream",
     "text": [
      "ko-en Translation:  81%|████████  | 6757/8321 [1:58:44<27:31,  1.06s/it]"
     ]
    },
    {
     "name": "stdout",
     "output_type": "stream",
     "text": [
      "N/A\n"
     ]
    },
    {
     "name": "stderr",
     "output_type": "stream",
     "text": [
      "ko-en Translation:  84%|████████▍ | 7028/8321 [2:03:29<22:45,  1.06s/it]"
     ]
    },
    {
     "name": "stdout",
     "output_type": "stream",
     "text": [
      "N/A\n"
     ]
    },
    {
     "name": "stderr",
     "output_type": "stream",
     "text": [
      "ko-en Translation:  86%|████████▋ | 7191/8321 [2:06:21<19:43,  1.05s/it]"
     ]
    },
    {
     "name": "stdout",
     "output_type": "stream",
     "text": [
      "N/A\n"
     ]
    },
    {
     "name": "stderr",
     "output_type": "stream",
     "text": [
      "ko-en Translation:  92%|█████████▏| 7624/8321 [2:13:57<12:20,  1.06s/it]"
     ]
    },
    {
     "name": "stdout",
     "output_type": "stream",
     "text": [
      "N/A\n"
     ]
    },
    {
     "name": "stderr",
     "output_type": "stream",
     "text": [
      "ko-en Translation:  98%|█████████▊| 8145/8321 [2:23:06<03:05,  1.05s/it]"
     ]
    },
    {
     "name": "stdout",
     "output_type": "stream",
     "text": [
      "N/A\n"
     ]
    },
    {
     "name": "stderr",
     "output_type": "stream",
     "text": [
      "ko-en Translation: 100%|██████████| 8321/8321 [2:26:12<00:00,  1.05s/it]\n",
      "en-ko Translation:   1%|          | 75/8321 [01:20<2:23:51,  1.05s/it]"
     ]
    },
    {
     "name": "stdout",
     "output_type": "stream",
     "text": [
      "N/A\n"
     ]
    },
    {
     "name": "stderr",
     "output_type": "stream",
     "text": [
      "en-ko Translation:   1%|          | 84/8321 [01:29<2:24:20,  1.05s/it]"
     ]
    },
    {
     "name": "stdout",
     "output_type": "stream",
     "text": [
      "N/A\n"
     ]
    },
    {
     "name": "stderr",
     "output_type": "stream",
     "text": [
      "en-ko Translation:   1%|          | 86/8321 [01:31<2:25:00,  1.06s/it]"
     ]
    },
    {
     "name": "stdout",
     "output_type": "stream",
     "text": [
      "N/A\n"
     ]
    },
    {
     "name": "stderr",
     "output_type": "stream",
     "text": [
      "en-ko Translation:   2%|▏         | 200/8321 [03:31<2:21:40,  1.05s/it]"
     ]
    },
    {
     "name": "stdout",
     "output_type": "stream",
     "text": [
      "N/A\n"
     ]
    },
    {
     "name": "stderr",
     "output_type": "stream",
     "text": [
      "en-ko Translation:   3%|▎         | 239/8321 [04:12<2:20:54,  1.05s/it]"
     ]
    },
    {
     "name": "stdout",
     "output_type": "stream",
     "text": [
      "N/A\n"
     ]
    },
    {
     "name": "stderr",
     "output_type": "stream",
     "text": [
      "en-ko Translation:   4%|▍         | 359/8321 [06:18<2:19:40,  1.05s/it]"
     ]
    },
    {
     "name": "stdout",
     "output_type": "stream",
     "text": [
      "N/A\n"
     ]
    },
    {
     "name": "stderr",
     "output_type": "stream",
     "text": [
      "en-ko Translation:   6%|▌         | 467/8321 [08:12<2:18:04,  1.05s/it]"
     ]
    },
    {
     "name": "stdout",
     "output_type": "stream",
     "text": [
      "N/A\n"
     ]
    },
    {
     "name": "stderr",
     "output_type": "stream",
     "text": [
      "en-ko Translation:   6%|▌         | 473/8321 [08:18<2:17:29,  1.05s/it]"
     ]
    },
    {
     "name": "stdout",
     "output_type": "stream",
     "text": [
      "N/A\n"
     ]
    },
    {
     "name": "stderr",
     "output_type": "stream",
     "text": [
      "en-ko Translation:   6%|▌         | 500/8321 [08:46<2:16:27,  1.05s/it]"
     ]
    },
    {
     "name": "stdout",
     "output_type": "stream",
     "text": [
      "N/A\n"
     ]
    },
    {
     "name": "stderr",
     "output_type": "stream",
     "text": [
      "en-ko Translation:   9%|▉         | 786/8321 [13:47<2:11:37,  1.05s/it]"
     ]
    },
    {
     "name": "stdout",
     "output_type": "stream",
     "text": [
      "N/A\n"
     ]
    },
    {
     "name": "stderr",
     "output_type": "stream",
     "text": [
      "en-ko Translation:  10%|▉         | 828/8321 [14:31<2:11:00,  1.05s/it]"
     ]
    },
    {
     "name": "stdout",
     "output_type": "stream",
     "text": [
      "N/A\n"
     ]
    },
    {
     "name": "stderr",
     "output_type": "stream",
     "text": [
      "en-ko Translation:  11%|█         | 923/8321 [16:11<2:09:17,  1.05s/it]"
     ]
    },
    {
     "name": "stdout",
     "output_type": "stream",
     "text": [
      "N/A\n"
     ]
    },
    {
     "name": "stderr",
     "output_type": "stream",
     "text": [
      "en-ko Translation:  13%|█▎        | 1068/8321 [18:43<2:07:22,  1.05s/it]"
     ]
    },
    {
     "name": "stdout",
     "output_type": "stream",
     "text": [
      "N/A\n"
     ]
    },
    {
     "name": "stderr",
     "output_type": "stream",
     "text": [
      "en-ko Translation:  14%|█▍        | 1165/8321 [20:25<2:05:15,  1.05s/it]"
     ]
    },
    {
     "name": "stdout",
     "output_type": "stream",
     "text": [
      "N/A\n"
     ]
    },
    {
     "name": "stderr",
     "output_type": "stream",
     "text": [
      "en-ko Translation:  19%|█▉        | 1565/8321 [27:26<1:58:28,  1.05s/it]"
     ]
    },
    {
     "name": "stdout",
     "output_type": "stream",
     "text": [
      "N/A\n"
     ]
    },
    {
     "name": "stderr",
     "output_type": "stream",
     "text": [
      "en-ko Translation:  20%|█▉        | 1629/8321 [28:33<1:56:33,  1.04s/it]"
     ]
    },
    {
     "name": "stdout",
     "output_type": "stream",
     "text": [
      "N/A\n"
     ]
    },
    {
     "name": "stderr",
     "output_type": "stream",
     "text": [
      "en-ko Translation:  21%|██        | 1761/8321 [30:52<1:54:55,  1.05s/it]"
     ]
    },
    {
     "name": "stdout",
     "output_type": "stream",
     "text": [
      "N/A\n"
     ]
    },
    {
     "name": "stderr",
     "output_type": "stream",
     "text": [
      "en-ko Translation:  25%|██▌       | 2091/8321 [36:39<1:49:16,  1.05s/it]"
     ]
    },
    {
     "name": "stdout",
     "output_type": "stream",
     "text": [
      "N/A\n"
     ]
    },
    {
     "name": "stderr",
     "output_type": "stream",
     "text": [
      "en-ko Translation:  26%|██▌       | 2164/8321 [37:56<1:48:04,  1.05s/it]"
     ]
    },
    {
     "name": "stdout",
     "output_type": "stream",
     "text": [
      "N/A\n"
     ]
    },
    {
     "name": "stderr",
     "output_type": "stream",
     "text": [
      "en-ko Translation:  26%|██▋       | 2192/8321 [38:25<1:47:24,  1.05s/it]"
     ]
    },
    {
     "name": "stdout",
     "output_type": "stream",
     "text": [
      "N/A\n"
     ]
    },
    {
     "name": "stderr",
     "output_type": "stream",
     "text": [
      "en-ko Translation:  26%|██▋       | 2194/8321 [38:27<1:47:15,  1.05s/it]"
     ]
    },
    {
     "name": "stdout",
     "output_type": "stream",
     "text": [
      "N/A\n"
     ]
    },
    {
     "name": "stderr",
     "output_type": "stream",
     "text": [
      "en-ko Translation:  26%|██▋       | 2198/8321 [38:31<1:47:26,  1.05s/it]"
     ]
    },
    {
     "name": "stdout",
     "output_type": "stream",
     "text": [
      "N/A\n"
     ]
    },
    {
     "name": "stderr",
     "output_type": "stream",
     "text": [
      "en-ko Translation:  27%|██▋       | 2211/8321 [38:45<1:47:20,  1.05s/it]"
     ]
    },
    {
     "name": "stdout",
     "output_type": "stream",
     "text": [
      "N/A\n"
     ]
    },
    {
     "name": "stderr",
     "output_type": "stream",
     "text": [
      "en-ko Translation:  27%|██▋       | 2225/8321 [39:00<1:46:54,  1.05s/it]"
     ]
    },
    {
     "name": "stdout",
     "output_type": "stream",
     "text": [
      "N/A\n"
     ]
    },
    {
     "name": "stderr",
     "output_type": "stream",
     "text": [
      "en-ko Translation:  28%|██▊       | 2312/8321 [40:31<1:45:26,  1.05s/it]"
     ]
    },
    {
     "name": "stdout",
     "output_type": "stream",
     "text": [
      "N/A\n"
     ]
    },
    {
     "name": "stderr",
     "output_type": "stream",
     "text": [
      "en-ko Translation:  28%|██▊       | 2317/8321 [40:37<1:45:42,  1.06s/it]"
     ]
    },
    {
     "name": "stdout",
     "output_type": "stream",
     "text": [
      "N/A\n"
     ]
    },
    {
     "name": "stderr",
     "output_type": "stream",
     "text": [
      "en-ko Translation:  30%|██▉       | 2496/8321 [43:45<1:41:42,  1.05s/it]"
     ]
    },
    {
     "name": "stdout",
     "output_type": "stream",
     "text": [
      "N/A\n"
     ]
    },
    {
     "name": "stderr",
     "output_type": "stream",
     "text": [
      "en-ko Translation:  34%|███▎      | 2797/8321 [49:01<1:36:55,  1.05s/it]"
     ]
    },
    {
     "name": "stdout",
     "output_type": "stream",
     "text": [
      "N/A\n"
     ]
    },
    {
     "name": "stderr",
     "output_type": "stream",
     "text": [
      "en-ko Translation:  34%|███▍      | 2858/8321 [50:05<1:35:30,  1.05s/it]"
     ]
    },
    {
     "name": "stdout",
     "output_type": "stream",
     "text": [
      "N/A\n"
     ]
    },
    {
     "name": "stderr",
     "output_type": "stream",
     "text": [
      "en-ko Translation:  35%|███▌      | 2950/8321 [51:42<1:34:07,  1.05s/it]"
     ]
    },
    {
     "name": "stdout",
     "output_type": "stream",
     "text": [
      "N/A\n"
     ]
    },
    {
     "name": "stderr",
     "output_type": "stream",
     "text": [
      "en-ko Translation:  36%|███▋      | 3018/8321 [52:53<1:33:21,  1.06s/it]"
     ]
    },
    {
     "name": "stdout",
     "output_type": "stream",
     "text": [
      "N/A\n"
     ]
    },
    {
     "name": "stderr",
     "output_type": "stream",
     "text": [
      "en-ko Translation:  38%|███▊      | 3137/8321 [54:58<1:30:37,  1.05s/it]"
     ]
    },
    {
     "name": "stdout",
     "output_type": "stream",
     "text": [
      "N/A\n"
     ]
    },
    {
     "name": "stderr",
     "output_type": "stream",
     "text": [
      "en-ko Translation:  39%|███▉      | 3226/8321 [56:32<1:29:19,  1.05s/it]"
     ]
    },
    {
     "name": "stdout",
     "output_type": "stream",
     "text": [
      "N/A\n"
     ]
    },
    {
     "name": "stderr",
     "output_type": "stream",
     "text": [
      "en-ko Translation:  41%|████      | 3384/8321 [59:18<1:27:04,  1.06s/it]"
     ]
    },
    {
     "name": "stdout",
     "output_type": "stream",
     "text": [
      "N/A\n"
     ]
    },
    {
     "name": "stderr",
     "output_type": "stream",
     "text": [
      "en-ko Translation:  42%|████▏     | 3525/8321 [1:01:46<1:23:49,  1.05s/it]"
     ]
    },
    {
     "name": "stdout",
     "output_type": "stream",
     "text": [
      "N/A\n"
     ]
    },
    {
     "name": "stderr",
     "output_type": "stream",
     "text": [
      "en-ko Translation:  42%|████▏     | 3535/8321 [1:01:56<1:23:41,  1.05s/it]"
     ]
    },
    {
     "name": "stdout",
     "output_type": "stream",
     "text": [
      "N/A\n"
     ]
    },
    {
     "name": "stderr",
     "output_type": "stream",
     "text": [
      "en-ko Translation:  43%|████▎     | 3554/8321 [1:02:16<1:23:25,  1.05s/it]"
     ]
    },
    {
     "name": "stdout",
     "output_type": "stream",
     "text": [
      "N/A\n"
     ]
    },
    {
     "name": "stderr",
     "output_type": "stream",
     "text": [
      "en-ko Translation:  43%|████▎     | 3562/8321 [1:02:25<1:23:23,  1.05s/it]"
     ]
    },
    {
     "name": "stdout",
     "output_type": "stream",
     "text": [
      "N/A\n"
     ]
    },
    {
     "name": "stderr",
     "output_type": "stream",
     "text": [
      "en-ko Translation:  43%|████▎     | 3565/8321 [1:02:28<1:23:21,  1.05s/it]"
     ]
    },
    {
     "name": "stdout",
     "output_type": "stream",
     "text": [
      "N/A\n"
     ]
    },
    {
     "name": "stderr",
     "output_type": "stream",
     "text": [
      "en-ko Translation:  44%|████▍     | 3651/8321 [1:03:58<1:21:54,  1.05s/it]"
     ]
    },
    {
     "name": "stdout",
     "output_type": "stream",
     "text": [
      "N/A\n"
     ]
    },
    {
     "name": "stderr",
     "output_type": "stream",
     "text": [
      "en-ko Translation:  45%|████▍     | 3740/8321 [1:05:32<1:19:53,  1.05s/it]"
     ]
    },
    {
     "name": "stdout",
     "output_type": "stream",
     "text": [
      "N/A\n"
     ]
    },
    {
     "name": "stderr",
     "output_type": "stream",
     "text": [
      "en-ko Translation:  50%|████▉     | 4153/8321 [1:12:46<1:13:01,  1.05s/it]"
     ]
    },
    {
     "name": "stdout",
     "output_type": "stream",
     "text": [
      "N/A\n"
     ]
    },
    {
     "name": "stderr",
     "output_type": "stream",
     "text": [
      "en-ko Translation:  50%|█████     | 4186/8321 [1:13:20<1:12:26,  1.05s/it]"
     ]
    },
    {
     "name": "stdout",
     "output_type": "stream",
     "text": [
      "N/A\n"
     ]
    },
    {
     "name": "stderr",
     "output_type": "stream",
     "text": [
      "en-ko Translation:  51%|█████     | 4211/8321 [1:13:47<1:12:02,  1.05s/it]"
     ]
    },
    {
     "name": "stdout",
     "output_type": "stream",
     "text": [
      "N/A\n"
     ]
    },
    {
     "name": "stderr",
     "output_type": "stream",
     "text": [
      "en-ko Translation:  52%|█████▏    | 4306/8321 [1:15:27<1:10:04,  1.05s/it]"
     ]
    },
    {
     "name": "stdout",
     "output_type": "stream",
     "text": [
      "N/A\n"
     ]
    },
    {
     "name": "stderr",
     "output_type": "stream",
     "text": [
      "en-ko Translation:  54%|█████▍    | 4508/8321 [1:18:59<1:06:45,  1.05s/it]"
     ]
    },
    {
     "name": "stdout",
     "output_type": "stream",
     "text": [
      "N/A\n"
     ]
    },
    {
     "name": "stderr",
     "output_type": "stream",
     "text": [
      "en-ko Translation:  55%|█████▍    | 4551/8321 [1:19:44<1:06:09,  1.05s/it]"
     ]
    },
    {
     "name": "stdout",
     "output_type": "stream",
     "text": [
      "N/A\n"
     ]
    },
    {
     "name": "stderr",
     "output_type": "stream",
     "text": [
      "en-ko Translation:  58%|█████▊    | 4861/8321 [1:25:10<1:00:49,  1.05s/it]"
     ]
    },
    {
     "name": "stdout",
     "output_type": "stream",
     "text": [
      "N/A\n"
     ]
    },
    {
     "name": "stderr",
     "output_type": "stream",
     "text": [
      "en-ko Translation:  59%|█████▉    | 4889/8321 [1:25:39<1:00:02,  1.05s/it]"
     ]
    },
    {
     "name": "stdout",
     "output_type": "stream",
     "text": [
      "N/A\n"
     ]
    },
    {
     "name": "stderr",
     "output_type": "stream",
     "text": [
      "en-ko Translation:  59%|█████▉    | 4915/8321 [1:26:07<1:00:11,  1.06s/it]"
     ]
    },
    {
     "name": "stdout",
     "output_type": "stream",
     "text": [
      "N/A\n"
     ]
    },
    {
     "name": "stderr",
     "output_type": "stream",
     "text": [
      "en-ko Translation:  60%|█████▉    | 4966/8321 [1:27:00<58:29,  1.05s/it]  "
     ]
    },
    {
     "name": "stdout",
     "output_type": "stream",
     "text": [
      "N/A\n"
     ]
    },
    {
     "name": "stderr",
     "output_type": "stream",
     "text": [
      "en-ko Translation:  61%|██████    | 5072/8321 [1:28:52<56:52,  1.05s/it]"
     ]
    },
    {
     "name": "stdout",
     "output_type": "stream",
     "text": [
      "N/A\n"
     ]
    },
    {
     "name": "stderr",
     "output_type": "stream",
     "text": [
      "en-ko Translation:  61%|██████▏   | 5102/8321 [1:29:23<56:26,  1.05s/it]"
     ]
    },
    {
     "name": "stdout",
     "output_type": "stream",
     "text": [
      "N/A\n"
     ]
    },
    {
     "name": "stderr",
     "output_type": "stream",
     "text": [
      "en-ko Translation:  63%|██████▎   | 5222/8321 [1:31:29<54:17,  1.05s/it]"
     ]
    },
    {
     "name": "stdout",
     "output_type": "stream",
     "text": [
      "N/A\n"
     ]
    },
    {
     "name": "stderr",
     "output_type": "stream",
     "text": [
      "en-ko Translation:  63%|██████▎   | 5283/8321 [1:32:34<53:24,  1.05s/it]"
     ]
    },
    {
     "name": "stdout",
     "output_type": "stream",
     "text": [
      "N/A\n"
     ]
    },
    {
     "name": "stderr",
     "output_type": "stream",
     "text": [
      "en-ko Translation:  66%|██████▌   | 5467/8321 [1:35:47<50:18,  1.06s/it]"
     ]
    },
    {
     "name": "stdout",
     "output_type": "stream",
     "text": [
      "N/A\n"
     ]
    },
    {
     "name": "stderr",
     "output_type": "stream",
     "text": [
      "en-ko Translation:  66%|██████▌   | 5512/8321 [1:36:34<49:03,  1.05s/it]"
     ]
    },
    {
     "name": "stdout",
     "output_type": "stream",
     "text": [
      "N/A\n"
     ]
    },
    {
     "name": "stderr",
     "output_type": "stream",
     "text": [
      "en-ko Translation:  67%|██████▋   | 5605/8321 [1:38:12<47:34,  1.05s/it]"
     ]
    },
    {
     "name": "stdout",
     "output_type": "stream",
     "text": [
      "N/A\n"
     ]
    },
    {
     "name": "stderr",
     "output_type": "stream",
     "text": [
      "en-ko Translation:  69%|██████▉   | 5768/8321 [1:41:04<44:44,  1.05s/it]"
     ]
    },
    {
     "name": "stdout",
     "output_type": "stream",
     "text": [
      "N/A\n"
     ]
    },
    {
     "name": "stderr",
     "output_type": "stream",
     "text": [
      "en-ko Translation:  73%|███████▎  | 6059/8321 [1:46:10<39:23,  1.04s/it]"
     ]
    },
    {
     "name": "stdout",
     "output_type": "stream",
     "text": [
      "N/A\n"
     ]
    },
    {
     "name": "stderr",
     "output_type": "stream",
     "text": [
      "en-ko Translation:  78%|███████▊  | 6460/8321 [1:53:11<32:36,  1.05s/it]"
     ]
    },
    {
     "name": "stdout",
     "output_type": "stream",
     "text": [
      "N/A\n"
     ]
    },
    {
     "name": "stderr",
     "output_type": "stream",
     "text": [
      "en-ko Translation:  78%|███████▊  | 6495/8321 [1:53:48<31:59,  1.05s/it]"
     ]
    },
    {
     "name": "stdout",
     "output_type": "stream",
     "text": [
      "N/A\n"
     ]
    },
    {
     "name": "stderr",
     "output_type": "stream",
     "text": [
      "en-ko Translation:  78%|███████▊  | 6506/8321 [1:54:00<31:57,  1.06s/it]"
     ]
    },
    {
     "name": "stdout",
     "output_type": "stream",
     "text": [
      "N/A\n"
     ]
    },
    {
     "name": "stderr",
     "output_type": "stream",
     "text": [
      "en-ko Translation:  78%|███████▊  | 6525/8321 [1:54:20<31:42,  1.06s/it]"
     ]
    },
    {
     "name": "stdout",
     "output_type": "stream",
     "text": [
      "N/A\n"
     ]
    },
    {
     "name": "stderr",
     "output_type": "stream",
     "text": [
      "en-ko Translation:  79%|███████▉  | 6564/8321 [1:55:01<30:41,  1.05s/it]"
     ]
    },
    {
     "name": "stdout",
     "output_type": "stream",
     "text": [
      "N/A\n"
     ]
    },
    {
     "name": "stderr",
     "output_type": "stream",
     "text": [
      "en-ko Translation:  79%|███████▉  | 6583/8321 [1:55:21<30:29,  1.05s/it]"
     ]
    },
    {
     "name": "stdout",
     "output_type": "stream",
     "text": [
      "N/A\n"
     ]
    },
    {
     "name": "stderr",
     "output_type": "stream",
     "text": [
      "en-ko Translation:  81%|████████  | 6710/8321 [1:57:34<28:07,  1.05s/it]"
     ]
    },
    {
     "name": "stdout",
     "output_type": "stream",
     "text": [
      "N/A\n"
     ]
    },
    {
     "name": "stderr",
     "output_type": "stream",
     "text": [
      "en-ko Translation:  81%|████████  | 6720/8321 [1:57:45<28:06,  1.05s/it]"
     ]
    },
    {
     "name": "stdout",
     "output_type": "stream",
     "text": [
      "N/A\n"
     ]
    },
    {
     "name": "stderr",
     "output_type": "stream",
     "text": [
      "en-ko Translation:  81%|████████  | 6757/8321 [1:58:24<27:19,  1.05s/it]"
     ]
    },
    {
     "name": "stdout",
     "output_type": "stream",
     "text": [
      "N/A\n"
     ]
    },
    {
     "name": "stderr",
     "output_type": "stream",
     "text": [
      "en-ko Translation:  84%|████████▍ | 7028/8321 [2:03:09<22:44,  1.06s/it]"
     ]
    },
    {
     "name": "stdout",
     "output_type": "stream",
     "text": [
      "N/A\n"
     ]
    },
    {
     "name": "stderr",
     "output_type": "stream",
     "text": [
      "en-ko Translation:  85%|████████▍ | 7061/8321 [2:03:44<22:09,  1.06s/it]"
     ]
    },
    {
     "name": "stdout",
     "output_type": "stream",
     "text": [
      "N/A\n"
     ]
    },
    {
     "name": "stderr",
     "output_type": "stream",
     "text": [
      "en-ko Translation:  86%|████████▋ | 7191/8321 [2:06:00<19:43,  1.05s/it]"
     ]
    },
    {
     "name": "stdout",
     "output_type": "stream",
     "text": [
      "N/A\n"
     ]
    },
    {
     "name": "stderr",
     "output_type": "stream",
     "text": [
      "en-ko Translation:  92%|█████████▏| 7624/8321 [2:13:35<12:14,  1.05s/it]"
     ]
    },
    {
     "name": "stdout",
     "output_type": "stream",
     "text": [
      "N/A\n"
     ]
    },
    {
     "name": "stderr",
     "output_type": "stream",
     "text": [
      "en-ko Translation:  98%|█████████▊| 8116/8321 [2:22:13<03:35,  1.05s/it]"
     ]
    },
    {
     "name": "stdout",
     "output_type": "stream",
     "text": [
      "N/A\n"
     ]
    },
    {
     "name": "stderr",
     "output_type": "stream",
     "text": [
      "en-ko Translation:  98%|█████████▊| 8145/8321 [2:22:43<03:05,  1.05s/it]"
     ]
    },
    {
     "name": "stdout",
     "output_type": "stream",
     "text": [
      "N/A\n"
     ]
    },
    {
     "name": "stderr",
     "output_type": "stream",
     "text": [
      "en-ko Translation: 100%|██████████| 8321/8321 [2:25:48<00:00,  1.05s/it]\n"
     ]
    },
    {
     "name": "stdout",
     "output_type": "stream",
     "text": [
      "8321\n"
     ]
    }
   ],
   "source": [
    "# (대상 언어, 입력 파일명, 출력 파일명)\n",
    "forward, backward = augmentation_backtranslate('en', './Dataset/neg.jsonl', './Dataset/neg_aug.jsonl')"
   ]
  },
  {
   "cell_type": "markdown",
   "metadata": {},
   "source": [
    "# Postprocess\n"
   ]
  },
  {
   "cell_type": "markdown",
   "metadata": {},
   "source": [
    "### Check N/A"
   ]
  },
  {
   "cell_type": "code",
   "execution_count": 10,
   "metadata": {},
   "outputs": [
    {
     "name": "stdout",
     "output_type": "stream",
     "text": [
      "75\n"
     ]
    }
   ],
   "source": [
    "count = 0\n",
    "lst = []\n",
    "with jsonlines.open('./Dataset/neg_aug.jsonl', 'r') as f:\n",
    "    for line in f:\n",
    "        if len(line['sentence_form']) == 0: # 오류로 인해 빈 줄이 들어가진 않았는지 확인\n",
    "            # print (line['sentence_form'])\n",
    "            lst.append(line['id'])\n",
    "            count += 1\n",
    "          \n",
    "print(count)"
   ]
  },
  {
   "cell_type": "code",
   "execution_count": 12,
   "metadata": {},
   "outputs": [],
   "source": [
    "count = 0\n",
    "new_lst = []\n",
    "with jsonlines.open('./Dataset/neg_aug.jsonl', 'r') as f:\n",
    "    for line in f:\n",
    "        if len(line['sentence_form']) > 0: # 오류로 인해 빈 줄이 들어가진 않았는지 확인\n",
    "            # print (line['sentence_form'])\n",
    "            new_lst.append(line)\n",
    "            count += 1\n",
    "          \n",
    "with jsonlines.open('./Dataset/neg_aug.jsonl', 'w') as f:\n",
    "    f.write_all(new_lst)"
   ]
  },
  {
   "cell_type": "markdown",
   "metadata": {},
   "source": [
    "### Merge multiple augmented files"
   ]
  },
  {
   "cell_type": "code",
   "execution_count": 14,
   "metadata": {},
   "outputs": [],
   "source": [
    "files = [\n",
    "    './Dataset/train_preprocess.jsonl',\n",
    "    './Dataset/train_aug_en.jsonl',\n",
    "    './Dataset/train_aug_jp.jsonl',\n",
    "    './Dataset/train_aug_cn.jsonl',\n",
    "    './Dataset/train_aug_es.jsonl',\n",
    "]\n",
    "\n",
    "data = []\n",
    "for i, file in enumerate(files):\n",
    "    file_data = []\n",
    "    with jsonlines.open(file, 'r') as f:\n",
    "        for line in f:\n",
    "            file_data.append(line)\n",
    "    data.append(file_data)\n",
    "\n",
    "with jsonlines.open('./Dataset/train_aug_merged.jsonl', 'w') as f:\n",
    "    for i in range(len(data[0])):\n",
    "        for j in range(len(files)):\n",
    "            f.write(data[j][i])"
   ]
  },
  {
   "cell_type": "code",
   "execution_count": 19,
   "metadata": {},
   "outputs": [],
   "source": [
    "files = [\n",
    "    './Dataset/neg.jsonl',\n",
    "    './Dataset/neg_aug.jsonl',\n",
    "]\n",
    "\n",
    "data = []\n",
    "for i, file in enumerate(files):\n",
    "    file_data = []\n",
    "    with jsonlines.open(file, 'r') as f:\n",
    "        for line in f:\n",
    "            file_data.append(line)\n",
    "    data.append(file_data)\n",
    "\n",
    "with jsonlines.open('./Dataset/neg_merged.jsonl', 'w') as f:\n",
    "    for i in range(len(files)):\n",
    "        for j in range(len(data[i])):\n",
    "            f.write(data[i][j])"
   ]
  },
  {
   "cell_type": "code",
   "execution_count": 23,
   "metadata": {},
   "outputs": [
    {
     "name": "stdout",
     "output_type": "stream",
     "text": [
      "[{'id': 'sentiment-00003', 'sentence_form': '바다쪽으로 내려 가보려고 내려왔는데.. 손가락만 한 바다 바퀴벌레 진짜 많았음.. 여태 본 바다바퀴벌레는 그냥 애기 수준?', 'annotation': [['', [], 'negative']]}, {'id': 'sentiment-00012', 'sentence_form': '아닌가... 맞나.. 는 모르지만 너무 옛기억 아니 맞다', 'annotation': [['', [], 'negative']]}, {'id': 'sentiment-00022', 'sentence_form': '너무 넓어서 너무 아깝기도 한답니다.', 'annotation': [['', [], 'negative']]}, {'id': 'sentiment-00034', 'sentence_form': '단점이라면 주차가 부족하고 주차비가 정말 비싸다.', 'annotation': [['', [], 'negative']]}, {'id': 'sentiment-00038', 'sentence_form': '하지만 찌개가 거기에 못 따라가는 느낌. 그래도 맛은 개인 취향이니까 슴슴 심심한 맛이 내겐 안 맞을 뿐.', 'annotation': [['', [], 'negative']]}, {'id': 'sentiment-00048', 'sentence_form': '나중에 들어보니 이 구간을 택시 기사님들이 상당히 꺼려 하신대요..', 'annotation': [['', [], 'negative']]}, {'id': 'sentiment-00071', 'sentence_form': '지역적으로 레포츠와 축제 음식 등 서울과 수도권 인구의 휴식처로 자리매김하는 중이지만 아직까지 저평가 받고 있는데요', 'annotation': [['', [], 'negative']]}, {'id': 'sentiment-00078', 'sentence_form': '자판기밖에 없어서 카드로는 안되고 꼭 현금이 있어야해요.', 'annotation': [['', [], 'negative']]}, {'id': 'sentiment-00096', 'sentence_form': '낮시간이었는데 요즘 날씨가 푹푹 찌고 비가 올듯말듯 후덥지근해서 더웠거든요.', 'annotation': [['', [], 'negative']]}, {'id': 'sentiment-00097', 'sentence_form': '물론 아부지 한테 엄청 혼났죠', 'annotation': [['', [], 'negative']]}]\n"
     ]
    }
   ],
   "source": [
    "files = [\n",
    "    './Dataset/neg_merged.jsonl',\n",
    "]\n",
    "\n",
    "data = []\n",
    "for i, file in enumerate(files):\n",
    "    file_data = []\n",
    "    with jsonlines.open(file, 'r') as f:\n",
    "        for line in f:\n",
    "            data.append(line)\n",
    "\n",
    "sorted(data, key=lambda x: x['id'])\n",
    "print(data[:10])\n",
    "# with jsonlines.open('./Dataset/neg_merged_1.jsonl', 'w') as f:\n",
    "#     for j in range(len(data)):\n",
    "#         f.write(data[j])"
   ]
  }
 ],
 "metadata": {
  "kernelspec": {
   "display_name": "pytorch",
   "language": "python",
   "name": "python3"
  },
  "language_info": {
   "codemirror_mode": {
    "name": "ipython",
    "version": 3
   },
   "file_extension": ".py",
   "mimetype": "text/x-python",
   "name": "python",
   "nbconvert_exporter": "python",
   "pygments_lexer": "ipython3",
   "version": "3.9.13"
  },
  "orig_nbformat": 4
 },
 "nbformat": 4,
 "nbformat_minor": 2
}
